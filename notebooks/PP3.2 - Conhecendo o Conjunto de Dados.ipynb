{
 "cells": [
  {
   "cell_type": "markdown",
   "metadata": {},
   "source": [
    "## Redes Neurais Artificiais 2020.1\n",
    "\n",
    "**Disciplina**: Redes Neurais Artificiais 2020.1  \n",
    "**Professora**: Elloá B. Guedes (ebgcosta@uea.edu.br)  \n",
    "**Github**: http://github.com/elloa  \n",
    "\n",
    "### Explorando uma base de dados\n",
    "\n",
    "Nesta atividade prática iremos explorar a seguinte base de dados **_Forest Cover Type_**\n",
    "\n",
    "1. Obtenha esta base de dados no seguinte link: https://www.kaggle.com/uciml/forest-cover-type-dataset/download\n",
    "2. Consulte a documentação oficial da base de dados: https://archive.ics.uci.edu/ml/datasets/covertype\n",
    "3. **Responda**:  \n",
    "  3.1 O que é cada exemplo na base de dados?  \n",
    "  3.2 Em que ano ela foi obtida?  \n",
    "  3.3 Quem foram os responsáveis pela criação desta base de dados?  "
   ]
  },
  {
   "source": [
    "### 3.1: Se trata de informações cartográficas de uma área 30 x 30 metros de cobertura floresta localizados na Floresta Nacional Roosevelt, no norte do Colorado. \n",
    "### 3.2: A data da disponibilização dos dados é de: 01/08/1998\n",
    "### 3.3: Jock A. Blackard, Dr. Denis J. Dean e Dr. Charles W. Anderson."
   ],
   "cell_type": "markdown",
   "metadata": {}
  },
  {
   "cell_type": "code",
   "execution_count": 16,
   "metadata": {},
   "outputs": [],
   "source": [
    "## Reservado para a importação de bibliotecas\n",
    "import pandas as pd\n",
    "import numpy as np"
   ]
  },
  {
   "source": [
    "### Manipulando a base de dados\n",
    "1. Abra a base de dados com o pandas\n",
    "2. Imprima os 10 primeiros exemplos pertencentes à esta base\n",
    "3. Imprima os 10 últimos exemplos pertencentes à esta base\n",
    "4. Quantos exemplos esta base de dados possui?\n",
    "5. Quais são os atributos que a base de dados possui e quais seus tipos?\n",
    "6. Há algum dado faltante na base?\n",
    "7. De acordo com a documentação da base de dados, qual o significado dos atributos do tipo \"Soil Type\"?\n",
    "7.1 Este atributo é quantitativo ou qualitativo?\n",
    "7.2 Qual o tipo de codificação utilizada para denotar este atributo? Consulte a seguinte referência:\n",
    "https://pbpython.com/categorical-encoding.html"
   ],
   "cell_type": "markdown",
   "metadata": {}
  },
  {
   "cell_type": "code",
   "execution_count": 17,
   "metadata": {},
   "outputs": [],
   "source": [
    "df = pd.read_csv('dataset/covtype.csv', sep=',')"
   ]
  },
  {
   "cell_type": "code",
   "execution_count": 18,
   "metadata": {
    "tags": []
   },
   "outputs": [
    {
     "output_type": "stream",
     "name": "stdout",
     "text": [
      "10 primeiros exemplos:\n"
     ]
    },
    {
     "output_type": "execute_result",
     "data": {
      "text/plain": [
       "   Elevation  Aspect  Slope  Horizontal_Distance_To_Hydrology  \\\n",
       "0       2596      51      3                               258   \n",
       "1       2590      56      2                               212   \n",
       "2       2804     139      9                               268   \n",
       "3       2785     155     18                               242   \n",
       "4       2595      45      2                               153   \n",
       "5       2579     132      6                               300   \n",
       "6       2606      45      7                               270   \n",
       "7       2605      49      4                               234   \n",
       "8       2617      45      9                               240   \n",
       "9       2612      59     10                               247   \n",
       "\n",
       "   Vertical_Distance_To_Hydrology  Horizontal_Distance_To_Roadways  \\\n",
       "0                               0                              510   \n",
       "1                              -6                              390   \n",
       "2                              65                             3180   \n",
       "3                             118                             3090   \n",
       "4                              -1                              391   \n",
       "5                             -15                               67   \n",
       "6                               5                              633   \n",
       "7                               7                              573   \n",
       "8                              56                              666   \n",
       "9                              11                              636   \n",
       "\n",
       "   Hillshade_9am  Hillshade_Noon  Hillshade_3pm  \\\n",
       "0            221             232            148   \n",
       "1            220             235            151   \n",
       "2            234             238            135   \n",
       "3            238             238            122   \n",
       "4            220             234            150   \n",
       "5            230             237            140   \n",
       "6            222             225            138   \n",
       "7            222             230            144   \n",
       "8            223             221            133   \n",
       "9            228             219            124   \n",
       "\n",
       "   Horizontal_Distance_To_Fire_Points  ...  Soil_Type32  Soil_Type33  \\\n",
       "0                                6279  ...            0            0   \n",
       "1                                6225  ...            0            0   \n",
       "2                                6121  ...            0            0   \n",
       "3                                6211  ...            0            0   \n",
       "4                                6172  ...            0            0   \n",
       "5                                6031  ...            0            0   \n",
       "6                                6256  ...            0            0   \n",
       "7                                6228  ...            0            0   \n",
       "8                                6244  ...            0            0   \n",
       "9                                6230  ...            0            0   \n",
       "\n",
       "   Soil_Type34  Soil_Type35  Soil_Type36  Soil_Type37  Soil_Type38  \\\n",
       "0            0            0            0            0            0   \n",
       "1            0            0            0            0            0   \n",
       "2            0            0            0            0            0   \n",
       "3            0            0            0            0            0   \n",
       "4            0            0            0            0            0   \n",
       "5            0            0            0            0            0   \n",
       "6            0            0            0            0            0   \n",
       "7            0            0            0            0            0   \n",
       "8            0            0            0            0            0   \n",
       "9            0            0            0            0            0   \n",
       "\n",
       "   Soil_Type39  Soil_Type40  Cover_Type  \n",
       "0            0            0           5  \n",
       "1            0            0           5  \n",
       "2            0            0           2  \n",
       "3            0            0           2  \n",
       "4            0            0           5  \n",
       "5            0            0           2  \n",
       "6            0            0           5  \n",
       "7            0            0           5  \n",
       "8            0            0           5  \n",
       "9            0            0           5  \n",
       "\n",
       "[10 rows x 55 columns]"
      ],
      "text/html": "<div>\n<style scoped>\n    .dataframe tbody tr th:only-of-type {\n        vertical-align: middle;\n    }\n\n    .dataframe tbody tr th {\n        vertical-align: top;\n    }\n\n    .dataframe thead th {\n        text-align: right;\n    }\n</style>\n<table border=\"1\" class=\"dataframe\">\n  <thead>\n    <tr style=\"text-align: right;\">\n      <th></th>\n      <th>Elevation</th>\n      <th>Aspect</th>\n      <th>Slope</th>\n      <th>Horizontal_Distance_To_Hydrology</th>\n      <th>Vertical_Distance_To_Hydrology</th>\n      <th>Horizontal_Distance_To_Roadways</th>\n      <th>Hillshade_9am</th>\n      <th>Hillshade_Noon</th>\n      <th>Hillshade_3pm</th>\n      <th>Horizontal_Distance_To_Fire_Points</th>\n      <th>...</th>\n      <th>Soil_Type32</th>\n      <th>Soil_Type33</th>\n      <th>Soil_Type34</th>\n      <th>Soil_Type35</th>\n      <th>Soil_Type36</th>\n      <th>Soil_Type37</th>\n      <th>Soil_Type38</th>\n      <th>Soil_Type39</th>\n      <th>Soil_Type40</th>\n      <th>Cover_Type</th>\n    </tr>\n  </thead>\n  <tbody>\n    <tr>\n      <th>0</th>\n      <td>2596</td>\n      <td>51</td>\n      <td>3</td>\n      <td>258</td>\n      <td>0</td>\n      <td>510</td>\n      <td>221</td>\n      <td>232</td>\n      <td>148</td>\n      <td>6279</td>\n      <td>...</td>\n      <td>0</td>\n      <td>0</td>\n      <td>0</td>\n      <td>0</td>\n      <td>0</td>\n      <td>0</td>\n      <td>0</td>\n      <td>0</td>\n      <td>0</td>\n      <td>5</td>\n    </tr>\n    <tr>\n      <th>1</th>\n      <td>2590</td>\n      <td>56</td>\n      <td>2</td>\n      <td>212</td>\n      <td>-6</td>\n      <td>390</td>\n      <td>220</td>\n      <td>235</td>\n      <td>151</td>\n      <td>6225</td>\n      <td>...</td>\n      <td>0</td>\n      <td>0</td>\n      <td>0</td>\n      <td>0</td>\n      <td>0</td>\n      <td>0</td>\n      <td>0</td>\n      <td>0</td>\n      <td>0</td>\n      <td>5</td>\n    </tr>\n    <tr>\n      <th>2</th>\n      <td>2804</td>\n      <td>139</td>\n      <td>9</td>\n      <td>268</td>\n      <td>65</td>\n      <td>3180</td>\n      <td>234</td>\n      <td>238</td>\n      <td>135</td>\n      <td>6121</td>\n      <td>...</td>\n      <td>0</td>\n      <td>0</td>\n      <td>0</td>\n      <td>0</td>\n      <td>0</td>\n      <td>0</td>\n      <td>0</td>\n      <td>0</td>\n      <td>0</td>\n      <td>2</td>\n    </tr>\n    <tr>\n      <th>3</th>\n      <td>2785</td>\n      <td>155</td>\n      <td>18</td>\n      <td>242</td>\n      <td>118</td>\n      <td>3090</td>\n      <td>238</td>\n      <td>238</td>\n      <td>122</td>\n      <td>6211</td>\n      <td>...</td>\n      <td>0</td>\n      <td>0</td>\n      <td>0</td>\n      <td>0</td>\n      <td>0</td>\n      <td>0</td>\n      <td>0</td>\n      <td>0</td>\n      <td>0</td>\n      <td>2</td>\n    </tr>\n    <tr>\n      <th>4</th>\n      <td>2595</td>\n      <td>45</td>\n      <td>2</td>\n      <td>153</td>\n      <td>-1</td>\n      <td>391</td>\n      <td>220</td>\n      <td>234</td>\n      <td>150</td>\n      <td>6172</td>\n      <td>...</td>\n      <td>0</td>\n      <td>0</td>\n      <td>0</td>\n      <td>0</td>\n      <td>0</td>\n      <td>0</td>\n      <td>0</td>\n      <td>0</td>\n      <td>0</td>\n      <td>5</td>\n    </tr>\n    <tr>\n      <th>5</th>\n      <td>2579</td>\n      <td>132</td>\n      <td>6</td>\n      <td>300</td>\n      <td>-15</td>\n      <td>67</td>\n      <td>230</td>\n      <td>237</td>\n      <td>140</td>\n      <td>6031</td>\n      <td>...</td>\n      <td>0</td>\n      <td>0</td>\n      <td>0</td>\n      <td>0</td>\n      <td>0</td>\n      <td>0</td>\n      <td>0</td>\n      <td>0</td>\n      <td>0</td>\n      <td>2</td>\n    </tr>\n    <tr>\n      <th>6</th>\n      <td>2606</td>\n      <td>45</td>\n      <td>7</td>\n      <td>270</td>\n      <td>5</td>\n      <td>633</td>\n      <td>222</td>\n      <td>225</td>\n      <td>138</td>\n      <td>6256</td>\n      <td>...</td>\n      <td>0</td>\n      <td>0</td>\n      <td>0</td>\n      <td>0</td>\n      <td>0</td>\n      <td>0</td>\n      <td>0</td>\n      <td>0</td>\n      <td>0</td>\n      <td>5</td>\n    </tr>\n    <tr>\n      <th>7</th>\n      <td>2605</td>\n      <td>49</td>\n      <td>4</td>\n      <td>234</td>\n      <td>7</td>\n      <td>573</td>\n      <td>222</td>\n      <td>230</td>\n      <td>144</td>\n      <td>6228</td>\n      <td>...</td>\n      <td>0</td>\n      <td>0</td>\n      <td>0</td>\n      <td>0</td>\n      <td>0</td>\n      <td>0</td>\n      <td>0</td>\n      <td>0</td>\n      <td>0</td>\n      <td>5</td>\n    </tr>\n    <tr>\n      <th>8</th>\n      <td>2617</td>\n      <td>45</td>\n      <td>9</td>\n      <td>240</td>\n      <td>56</td>\n      <td>666</td>\n      <td>223</td>\n      <td>221</td>\n      <td>133</td>\n      <td>6244</td>\n      <td>...</td>\n      <td>0</td>\n      <td>0</td>\n      <td>0</td>\n      <td>0</td>\n      <td>0</td>\n      <td>0</td>\n      <td>0</td>\n      <td>0</td>\n      <td>0</td>\n      <td>5</td>\n    </tr>\n    <tr>\n      <th>9</th>\n      <td>2612</td>\n      <td>59</td>\n      <td>10</td>\n      <td>247</td>\n      <td>11</td>\n      <td>636</td>\n      <td>228</td>\n      <td>219</td>\n      <td>124</td>\n      <td>6230</td>\n      <td>...</td>\n      <td>0</td>\n      <td>0</td>\n      <td>0</td>\n      <td>0</td>\n      <td>0</td>\n      <td>0</td>\n      <td>0</td>\n      <td>0</td>\n      <td>0</td>\n      <td>5</td>\n    </tr>\n  </tbody>\n</table>\n<p>10 rows × 55 columns</p>\n</div>"
     },
     "metadata": {},
     "execution_count": 18
    }
   ],
   "source": [
    "print('10 primeiros exemplos:')\n",
    "df.head(10)"
   ]
  },
  {
   "cell_type": "code",
   "execution_count": 19,
   "metadata": {},
   "outputs": [
    {
     "output_type": "stream",
     "name": "stdout",
     "text": [
      "10 últimos exemplos:\n"
     ]
    },
    {
     "output_type": "execute_result",
     "data": {
      "text/plain": [
       "        Elevation  Aspect  Slope  Horizontal_Distance_To_Hydrology  \\\n",
       "581002       2419     168     25                               108   \n",
       "581003       2415     161     25                                95   \n",
       "581004       2410     158     24                                90   \n",
       "581005       2405     159     22                                90   \n",
       "581006       2401     157     21                                90   \n",
       "581007       2396     153     20                                85   \n",
       "581008       2391     152     19                                67   \n",
       "581009       2386     159     17                                60   \n",
       "581010       2384     170     15                                60   \n",
       "581011       2383     165     13                                60   \n",
       "\n",
       "        Vertical_Distance_To_Hydrology  Horizontal_Distance_To_Roadways  \\\n",
       "581002                              33                              124   \n",
       "581003                              29                              120   \n",
       "581004                              24                              120   \n",
       "581005                              19                              120   \n",
       "581006                              15                              120   \n",
       "581007                              17                              108   \n",
       "581008                              12                               95   \n",
       "581009                               7                               90   \n",
       "581010                               5                               90   \n",
       "581011                               4                               67   \n",
       "\n",
       "        Hillshade_9am  Hillshade_Noon  Hillshade_3pm  \\\n",
       "581002            230             240            126   \n",
       "581003            236             237            116   \n",
       "581004            238             236            115   \n",
       "581005            237             238            119   \n",
       "581006            238             238            119   \n",
       "581007            240             237            118   \n",
       "581008            240             237            119   \n",
       "581009            236             241            130   \n",
       "581010            230             245            143   \n",
       "581011            231             244            141   \n",
       "\n",
       "        Horizontal_Distance_To_Fire_Points  ...  Soil_Type32  Soil_Type33  \\\n",
       "581002                                 812  ...            0            0   \n",
       "581003                                 815  ...            0            0   \n",
       "581004                                 819  ...            0            0   \n",
       "581005                                 824  ...            0            0   \n",
       "581006                                 830  ...            0            0   \n",
       "581007                                 837  ...            0            0   \n",
       "581008                                 845  ...            0            0   \n",
       "581009                                 854  ...            0            0   \n",
       "581010                                 864  ...            0            0   \n",
       "581011                                 875  ...            0            0   \n",
       "\n",
       "        Soil_Type34  Soil_Type35  Soil_Type36  Soil_Type37  Soil_Type38  \\\n",
       "581002            0            0            0            0            0   \n",
       "581003            0            0            0            0            0   \n",
       "581004            0            0            0            0            0   \n",
       "581005            0            0            0            0            0   \n",
       "581006            0            0            0            0            0   \n",
       "581007            0            0            0            0            0   \n",
       "581008            0            0            0            0            0   \n",
       "581009            0            0            0            0            0   \n",
       "581010            0            0            0            0            0   \n",
       "581011            0            0            0            0            0   \n",
       "\n",
       "        Soil_Type39  Soil_Type40  Cover_Type  \n",
       "581002            0            0           3  \n",
       "581003            0            0           3  \n",
       "581004            0            0           3  \n",
       "581005            0            0           3  \n",
       "581006            0            0           3  \n",
       "581007            0            0           3  \n",
       "581008            0            0           3  \n",
       "581009            0            0           3  \n",
       "581010            0            0           3  \n",
       "581011            0            0           3  \n",
       "\n",
       "[10 rows x 55 columns]"
      ],
      "text/html": "<div>\n<style scoped>\n    .dataframe tbody tr th:only-of-type {\n        vertical-align: middle;\n    }\n\n    .dataframe tbody tr th {\n        vertical-align: top;\n    }\n\n    .dataframe thead th {\n        text-align: right;\n    }\n</style>\n<table border=\"1\" class=\"dataframe\">\n  <thead>\n    <tr style=\"text-align: right;\">\n      <th></th>\n      <th>Elevation</th>\n      <th>Aspect</th>\n      <th>Slope</th>\n      <th>Horizontal_Distance_To_Hydrology</th>\n      <th>Vertical_Distance_To_Hydrology</th>\n      <th>Horizontal_Distance_To_Roadways</th>\n      <th>Hillshade_9am</th>\n      <th>Hillshade_Noon</th>\n      <th>Hillshade_3pm</th>\n      <th>Horizontal_Distance_To_Fire_Points</th>\n      <th>...</th>\n      <th>Soil_Type32</th>\n      <th>Soil_Type33</th>\n      <th>Soil_Type34</th>\n      <th>Soil_Type35</th>\n      <th>Soil_Type36</th>\n      <th>Soil_Type37</th>\n      <th>Soil_Type38</th>\n      <th>Soil_Type39</th>\n      <th>Soil_Type40</th>\n      <th>Cover_Type</th>\n    </tr>\n  </thead>\n  <tbody>\n    <tr>\n      <th>581002</th>\n      <td>2419</td>\n      <td>168</td>\n      <td>25</td>\n      <td>108</td>\n      <td>33</td>\n      <td>124</td>\n      <td>230</td>\n      <td>240</td>\n      <td>126</td>\n      <td>812</td>\n      <td>...</td>\n      <td>0</td>\n      <td>0</td>\n      <td>0</td>\n      <td>0</td>\n      <td>0</td>\n      <td>0</td>\n      <td>0</td>\n      <td>0</td>\n      <td>0</td>\n      <td>3</td>\n    </tr>\n    <tr>\n      <th>581003</th>\n      <td>2415</td>\n      <td>161</td>\n      <td>25</td>\n      <td>95</td>\n      <td>29</td>\n      <td>120</td>\n      <td>236</td>\n      <td>237</td>\n      <td>116</td>\n      <td>815</td>\n      <td>...</td>\n      <td>0</td>\n      <td>0</td>\n      <td>0</td>\n      <td>0</td>\n      <td>0</td>\n      <td>0</td>\n      <td>0</td>\n      <td>0</td>\n      <td>0</td>\n      <td>3</td>\n    </tr>\n    <tr>\n      <th>581004</th>\n      <td>2410</td>\n      <td>158</td>\n      <td>24</td>\n      <td>90</td>\n      <td>24</td>\n      <td>120</td>\n      <td>238</td>\n      <td>236</td>\n      <td>115</td>\n      <td>819</td>\n      <td>...</td>\n      <td>0</td>\n      <td>0</td>\n      <td>0</td>\n      <td>0</td>\n      <td>0</td>\n      <td>0</td>\n      <td>0</td>\n      <td>0</td>\n      <td>0</td>\n      <td>3</td>\n    </tr>\n    <tr>\n      <th>581005</th>\n      <td>2405</td>\n      <td>159</td>\n      <td>22</td>\n      <td>90</td>\n      <td>19</td>\n      <td>120</td>\n      <td>237</td>\n      <td>238</td>\n      <td>119</td>\n      <td>824</td>\n      <td>...</td>\n      <td>0</td>\n      <td>0</td>\n      <td>0</td>\n      <td>0</td>\n      <td>0</td>\n      <td>0</td>\n      <td>0</td>\n      <td>0</td>\n      <td>0</td>\n      <td>3</td>\n    </tr>\n    <tr>\n      <th>581006</th>\n      <td>2401</td>\n      <td>157</td>\n      <td>21</td>\n      <td>90</td>\n      <td>15</td>\n      <td>120</td>\n      <td>238</td>\n      <td>238</td>\n      <td>119</td>\n      <td>830</td>\n      <td>...</td>\n      <td>0</td>\n      <td>0</td>\n      <td>0</td>\n      <td>0</td>\n      <td>0</td>\n      <td>0</td>\n      <td>0</td>\n      <td>0</td>\n      <td>0</td>\n      <td>3</td>\n    </tr>\n    <tr>\n      <th>581007</th>\n      <td>2396</td>\n      <td>153</td>\n      <td>20</td>\n      <td>85</td>\n      <td>17</td>\n      <td>108</td>\n      <td>240</td>\n      <td>237</td>\n      <td>118</td>\n      <td>837</td>\n      <td>...</td>\n      <td>0</td>\n      <td>0</td>\n      <td>0</td>\n      <td>0</td>\n      <td>0</td>\n      <td>0</td>\n      <td>0</td>\n      <td>0</td>\n      <td>0</td>\n      <td>3</td>\n    </tr>\n    <tr>\n      <th>581008</th>\n      <td>2391</td>\n      <td>152</td>\n      <td>19</td>\n      <td>67</td>\n      <td>12</td>\n      <td>95</td>\n      <td>240</td>\n      <td>237</td>\n      <td>119</td>\n      <td>845</td>\n      <td>...</td>\n      <td>0</td>\n      <td>0</td>\n      <td>0</td>\n      <td>0</td>\n      <td>0</td>\n      <td>0</td>\n      <td>0</td>\n      <td>0</td>\n      <td>0</td>\n      <td>3</td>\n    </tr>\n    <tr>\n      <th>581009</th>\n      <td>2386</td>\n      <td>159</td>\n      <td>17</td>\n      <td>60</td>\n      <td>7</td>\n      <td>90</td>\n      <td>236</td>\n      <td>241</td>\n      <td>130</td>\n      <td>854</td>\n      <td>...</td>\n      <td>0</td>\n      <td>0</td>\n      <td>0</td>\n      <td>0</td>\n      <td>0</td>\n      <td>0</td>\n      <td>0</td>\n      <td>0</td>\n      <td>0</td>\n      <td>3</td>\n    </tr>\n    <tr>\n      <th>581010</th>\n      <td>2384</td>\n      <td>170</td>\n      <td>15</td>\n      <td>60</td>\n      <td>5</td>\n      <td>90</td>\n      <td>230</td>\n      <td>245</td>\n      <td>143</td>\n      <td>864</td>\n      <td>...</td>\n      <td>0</td>\n      <td>0</td>\n      <td>0</td>\n      <td>0</td>\n      <td>0</td>\n      <td>0</td>\n      <td>0</td>\n      <td>0</td>\n      <td>0</td>\n      <td>3</td>\n    </tr>\n    <tr>\n      <th>581011</th>\n      <td>2383</td>\n      <td>165</td>\n      <td>13</td>\n      <td>60</td>\n      <td>4</td>\n      <td>67</td>\n      <td>231</td>\n      <td>244</td>\n      <td>141</td>\n      <td>875</td>\n      <td>...</td>\n      <td>0</td>\n      <td>0</td>\n      <td>0</td>\n      <td>0</td>\n      <td>0</td>\n      <td>0</td>\n      <td>0</td>\n      <td>0</td>\n      <td>0</td>\n      <td>3</td>\n    </tr>\n  </tbody>\n</table>\n<p>10 rows × 55 columns</p>\n</div>"
     },
     "metadata": {},
     "execution_count": 19
    }
   ],
   "source": [
    "print('10 últimos exemplos:')\n",
    "df.tail(10)"
   ]
  },
  {
   "cell_type": "code",
   "execution_count": 20,
   "metadata": {
    "tags": []
   },
   "outputs": [
    {
     "output_type": "stream",
     "name": "stdout",
     "text": [
      "Existem 581012 exemplos nessa base de dados.\n"
     ]
    }
   ],
   "source": [
    "print('Existem {} exemplos nessa base de dados.' .format(df.shape[0]))"
   ]
  },
  {
   "cell_type": "code",
   "execution_count": 21,
   "metadata": {
    "tags": []
   },
   "outputs": [
    {
     "output_type": "stream",
     "name": "stdout",
     "text": [
      "A base possui os seguintes atributos:\nElevation -> Seu tipo de dado é: <class 'str'>\nAspect -> Seu tipo de dado é: <class 'str'>\nSlope -> Seu tipo de dado é: <class 'str'>\nHorizontal_Distance_To_Hydrology -> Seu tipo de dado é: <class 'str'>\nVertical_Distance_To_Hydrology -> Seu tipo de dado é: <class 'str'>\nHorizontal_Distance_To_Roadways -> Seu tipo de dado é: <class 'str'>\nHillshade_9am -> Seu tipo de dado é: <class 'str'>\nHillshade_Noon -> Seu tipo de dado é: <class 'str'>\nHillshade_3pm -> Seu tipo de dado é: <class 'str'>\nHorizontal_Distance_To_Fire_Points -> Seu tipo de dado é: <class 'str'>\nWilderness_Area1 -> Seu tipo de dado é: <class 'str'>\nWilderness_Area2 -> Seu tipo de dado é: <class 'str'>\nWilderness_Area3 -> Seu tipo de dado é: <class 'str'>\nWilderness_Area4 -> Seu tipo de dado é: <class 'str'>\nSoil_Type1 -> Seu tipo de dado é: <class 'str'>\nSoil_Type2 -> Seu tipo de dado é: <class 'str'>\nSoil_Type3 -> Seu tipo de dado é: <class 'str'>\nSoil_Type4 -> Seu tipo de dado é: <class 'str'>\nSoil_Type5 -> Seu tipo de dado é: <class 'str'>\nSoil_Type6 -> Seu tipo de dado é: <class 'str'>\nSoil_Type7 -> Seu tipo de dado é: <class 'str'>\nSoil_Type8 -> Seu tipo de dado é: <class 'str'>\nSoil_Type9 -> Seu tipo de dado é: <class 'str'>\nSoil_Type10 -> Seu tipo de dado é: <class 'str'>\nSoil_Type11 -> Seu tipo de dado é: <class 'str'>\nSoil_Type12 -> Seu tipo de dado é: <class 'str'>\nSoil_Type13 -> Seu tipo de dado é: <class 'str'>\nSoil_Type14 -> Seu tipo de dado é: <class 'str'>\nSoil_Type15 -> Seu tipo de dado é: <class 'str'>\nSoil_Type16 -> Seu tipo de dado é: <class 'str'>\nSoil_Type17 -> Seu tipo de dado é: <class 'str'>\nSoil_Type18 -> Seu tipo de dado é: <class 'str'>\nSoil_Type19 -> Seu tipo de dado é: <class 'str'>\nSoil_Type20 -> Seu tipo de dado é: <class 'str'>\nSoil_Type21 -> Seu tipo de dado é: <class 'str'>\nSoil_Type22 -> Seu tipo de dado é: <class 'str'>\nSoil_Type23 -> Seu tipo de dado é: <class 'str'>\nSoil_Type24 -> Seu tipo de dado é: <class 'str'>\nSoil_Type25 -> Seu tipo de dado é: <class 'str'>\nSoil_Type26 -> Seu tipo de dado é: <class 'str'>\nSoil_Type27 -> Seu tipo de dado é: <class 'str'>\nSoil_Type28 -> Seu tipo de dado é: <class 'str'>\nSoil_Type29 -> Seu tipo de dado é: <class 'str'>\nSoil_Type30 -> Seu tipo de dado é: <class 'str'>\nSoil_Type31 -> Seu tipo de dado é: <class 'str'>\nSoil_Type32 -> Seu tipo de dado é: <class 'str'>\nSoil_Type33 -> Seu tipo de dado é: <class 'str'>\nSoil_Type34 -> Seu tipo de dado é: <class 'str'>\nSoil_Type35 -> Seu tipo de dado é: <class 'str'>\nSoil_Type36 -> Seu tipo de dado é: <class 'str'>\nSoil_Type37 -> Seu tipo de dado é: <class 'str'>\nSoil_Type38 -> Seu tipo de dado é: <class 'str'>\nSoil_Type39 -> Seu tipo de dado é: <class 'str'>\nSoil_Type40 -> Seu tipo de dado é: <class 'str'>\nCover_Type -> Seu tipo de dado é: <class 'str'>\n"
     ]
    }
   ],
   "source": [
    "print('A base possui os seguintes atributos:')\n",
    "df_columns = df.columns.to_numpy()\n",
    "for i in df_columns:\n",
    "    print(i, \"-> Seu tipo de dado é:\", type(i))"
   ]
  },
  {
   "cell_type": "code",
   "execution_count": 27,
   "metadata": {},
   "outputs": [
    {
     "output_type": "stream",
     "name": "stdout",
     "text": [
      "Veremos a seguir a quantidade de nulos por atributo:\n"
     ]
    },
    {
     "output_type": "execute_result",
     "data": {
      "text/plain": [
       "Elevation                             0\n",
       "Aspect                                0\n",
       "Slope                                 0\n",
       "Horizontal_Distance_To_Hydrology      0\n",
       "Vertical_Distance_To_Hydrology        0\n",
       "Horizontal_Distance_To_Roadways       0\n",
       "Hillshade_9am                         0\n",
       "Hillshade_Noon                        0\n",
       "Hillshade_3pm                         0\n",
       "Horizontal_Distance_To_Fire_Points    0\n",
       "Wilderness_Area1                      0\n",
       "Wilderness_Area2                      0\n",
       "Wilderness_Area3                      0\n",
       "Wilderness_Area4                      0\n",
       "Soil_Type1                            0\n",
       "Soil_Type2                            0\n",
       "Soil_Type3                            0\n",
       "Soil_Type4                            0\n",
       "Soil_Type5                            0\n",
       "Soil_Type6                            0\n",
       "Soil_Type7                            0\n",
       "Soil_Type8                            0\n",
       "Soil_Type9                            0\n",
       "Soil_Type10                           0\n",
       "Soil_Type11                           0\n",
       "Soil_Type12                           0\n",
       "Soil_Type13                           0\n",
       "Soil_Type14                           0\n",
       "Soil_Type15                           0\n",
       "Soil_Type16                           0\n",
       "Soil_Type17                           0\n",
       "Soil_Type18                           0\n",
       "Soil_Type19                           0\n",
       "Soil_Type20                           0\n",
       "Soil_Type21                           0\n",
       "Soil_Type22                           0\n",
       "Soil_Type23                           0\n",
       "Soil_Type24                           0\n",
       "Soil_Type25                           0\n",
       "Soil_Type26                           0\n",
       "Soil_Type27                           0\n",
       "Soil_Type28                           0\n",
       "Soil_Type29                           0\n",
       "Soil_Type30                           0\n",
       "Soil_Type31                           0\n",
       "Soil_Type32                           0\n",
       "Soil_Type33                           0\n",
       "Soil_Type34                           0\n",
       "Soil_Type35                           0\n",
       "Soil_Type36                           0\n",
       "Soil_Type37                           0\n",
       "Soil_Type38                           0\n",
       "Soil_Type39                           0\n",
       "Soil_Type40                           0\n",
       "Cover_Type                            0\n",
       "dtype: int64"
      ]
     },
     "metadata": {},
     "execution_count": 27
    }
   ],
   "source": [
    "print('Veremos a seguir a quantidade de nulos por atributo:')\n",
    "df.isnull().sum()\n",
    "\n",
    "\n",
    "#"
   ]
  },
  {
   "cell_type": "markdown",
   "metadata": {},
   "source": [
    "### Visualizando a base de dados\n",
    "\n",
    "1. Baseando-se nos fundamentos de visualização de dados abordados na disciplina, plote cada um dos atributos preditores de maneira a enfatizar a sua distribuição, tendência central e dispersão  \n",
    "1.1 Considere que o número de columas no dataset é diferente do número de atributos, conforme discussão promovida a respeito do dataset  \n",
    "1.2 Se preferir, opte por complementar as informações visuais com medidas estatísticas  \n",
    "2. A partir da visualização elaborada, o que pode-se dizer a respeito do balanceamento do atributo-alvo?\n",
    "3. Que tipo de tarefa de Aprendizado de Máquina é sugestiva para este problema?  \n",
    "3.1 Apresente métricas de desempenho compatíveis para a avaliação do problema (liste-as)  \n",
    "3.2 Escolha uma das métricas apresentadas para ser utilizada como referência pela equipe"
   ]
  },
  {
   "cell_type": "code",
   "execution_count": null,
   "metadata": {},
   "outputs": [],
   "source": []
  },
  {
   "cell_type": "code",
   "execution_count": null,
   "metadata": {},
   "outputs": [],
   "source": []
  },
  {
   "cell_type": "code",
   "execution_count": null,
   "metadata": {},
   "outputs": [],
   "source": []
  },
  {
   "cell_type": "code",
   "execution_count": null,
   "metadata": {},
   "outputs": [],
   "source": []
  },
  {
   "cell_type": "code",
   "execution_count": null,
   "metadata": {},
   "outputs": [],
   "source": []
  },
  {
   "cell_type": "code",
   "execution_count": null,
   "metadata": {},
   "outputs": [],
   "source": []
  }
 ],
 "metadata": {
  "kernelspec": {
   "name": "Python 3.8.1 64-bit",
   "display_name": "Python 3.8.1 64-bit",
   "metadata": {
    "interpreter": {
     "hash": "53f9a72db918e1f0cc3aa0c0bcda5f5313f50e7c22ec95f6292c64615ab9216b"
    }
   }
  },
  "language_info": {
   "codemirror_mode": {
    "name": "ipython",
    "version": 3
   },
   "file_extension": ".py",
   "mimetype": "text/x-python",
   "name": "python",
   "nbconvert_exporter": "python",
   "pygments_lexer": "ipython3",
   "version": "3.8.1-final"
  }
 },
 "nbformat": 4,
 "nbformat_minor": 4
}