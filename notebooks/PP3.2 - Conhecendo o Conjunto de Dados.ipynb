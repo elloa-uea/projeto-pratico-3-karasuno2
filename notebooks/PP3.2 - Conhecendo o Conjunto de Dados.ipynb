{
 "cells": [
  {
   "cell_type": "markdown",
   "metadata": {},
   "source": [
    "## Redes Neurais Artificiais 2020.1\n",
    "\n",
    "**Disciplina**: Redes Neurais Artificiais 2020.1  \n",
    "**Professora**: Elloá B. Guedes (ebgcosta@uea.edu.br)  \n",
    "**Github**: http://github.com/elloa  \n",
    "\n",
    "### Explorando uma base de dados\n",
    "\n",
    "Nesta atividade prática iremos explorar a seguinte base de dados **_Forest Cover Type_**\n",
    "\n",
    "1. Obtenha esta base de dados no seguinte link: https://www.kaggle.com/uciml/forest-cover-type-dataset/download\n",
    "2. Consulte a documentação oficial da base de dados: https://archive.ics.uci.edu/ml/datasets/covertype\n",
    "3. **Responda**:  \n",
    "  3.1 O que é cada exemplo na base de dados?  \n",
    "  3.2 Em que ano ela foi obtida?  \n",
    "  3.3 Quem foram os responsáveis pela criação desta base de dados?  "
   ]
  },
  {
   "source": [
    "### 3.1: Se trata de informações cartográficas de uma área 30 x 30 metros de cobertura floresta localizados na Floresta Nacional Roosevelt, no norte do Colorado. \n",
    "### 3.2: A data da disponibilização dos dados é de: 01/08/1998\n",
    "### 3.3: Jock A. Blackard, Dr. Denis J. Dean e Dr. Charles W. Anderson."
   ],
   "cell_type": "markdown",
   "metadata": {}
  },
  {
   "cell_type": "code",
   "execution_count": 1,
   "metadata": {},
   "outputs": [],
   "source": [
    "## Reservado para a importação de bibliotecas\n",
    "import pandas as pd\n"
   ]
  },
  {
   "source": [
    "### Manipulando a base de dados\n",
    "1. Abra a base de dados com o pandas\n",
    "2. Imprima os 10 primeiros exemplos pertencentes à esta base\n",
    "3. Imprima os 10 últimos exemplos pertencentes à esta base\n",
    "4. Quantos exemplos esta base de dados possui?\n",
    "5. Quais são os atributos que a base de dados possui e quais seus tipos?\n",
    "6. Há algum dado faltante na base?\n",
    "7. De acordo com a documentação da base de dados, qual o significado dos atributos do tipo \"Soil Type\"?\n",
    "7.1 Este atributo é quantitativo ou qualitativo?\n",
    "7.2 Qual o tipo de codificação utilizada para denotar este atributo? Consulte a seguinte referência:\n",
    "https://pbpython.com/categorical-encoding.html"
   ],
   "cell_type": "markdown",
   "metadata": {}
  },
  {
   "cell_type": "code",
   "execution_count": 2,
   "metadata": {},
   "outputs": [],
   "source": [
    "df = pd.read_csv('dataset/covtype.csv', sep=';', low_memory=False)"
   ]
  },
  {
   "cell_type": "code",
   "execution_count": 4,
   "metadata": {},
   "outputs": [
    {
     "output_type": "execute_result",
     "data": {
      "text/plain": "  Elevation,Aspect,Slope,Horizontal_Distance_To_Hydrology,Vertical_Distance_To_Hydrology,Horizontal_Distance_To_Roadways,Hillshade_9am,Hillshade_Noon,Hillshade_3pm,Horizontal_Distance_To_Fire_Points,Wilderness_Area1,Wilderness_Area2,Wilderness_Area3,Wilderness_Area4,Soil_Type1,Soil_Type2,Soil_Type3,Soil_Type4,Soil_Type5,Soil_Type6,Soil_Type7,Soil_Type8,Soil_Type9,Soil_Type10,Soil_Type11,Soil_Type12,Soil_Type13,Soil_Type14,Soil_Type15,Soil_Type16,Soil_Type17,Soil_Type18,Soil_Type19,Soil_Type20,Soil_Type21,Soil_Type22,Soil_Type23,Soil_Type24,Soil_Type25,Soil_Type26,Soil_Type27,Soil_Type28,Soil_Type29,Soil_Type30,Soil_Type31,Soil_Type32,Soil_Type33,Soil_Type34,Soil_Type35,Soil_Type36,Soil_Type37,Soil_Type38,Soil_Type39,Soil_Type40,Cover_Type\n0  2596,51,3,258,0,510,221,232,148,6279,1,0,0,0,0...                                                                                                                                                                                                                                                                                                                                                                                                                                                                                                                                                                                                                                                                                                                        \n1  2590,56,2,212,-6,390,220,235,151,6225,1,0,0,0,...                                                                                                                                                                                                                                                                                                                                                                                                                                                                                                                                                                                                                                                                                                                        \n2  2804,139,9,268,65,3180,234,238,135,6121,1,0,0,...                                                                                                                                                                                                                                                                                                                                                                                                                                                                                                                                                                                                                                                                                                                        \n3  2785,155,18,242,118,3090,238,238,122,6211,1,0,...                                                                                                                                                                                                                                                                                                                                                                                                                                                                                                                                                                                                                                                                                                                        \n4  2595,45,2,153,-1,391,220,234,150,6172,1,0,0,0,...                                                                                                                                                                                                                                                                                                                                                                                                                                                                                                                                                                                                                                                                                                                        ",
      "text/html": "<div>\n<style scoped>\n    .dataframe tbody tr th:only-of-type {\n        vertical-align: middle;\n    }\n\n    .dataframe tbody tr th {\n        vertical-align: top;\n    }\n\n    .dataframe thead th {\n        text-align: right;\n    }\n</style>\n<table border=\"1\" class=\"dataframe\">\n  <thead>\n    <tr style=\"text-align: right;\">\n      <th></th>\n      <th>Elevation,Aspect,Slope,Horizontal_Distance_To_Hydrology,Vertical_Distance_To_Hydrology,Horizontal_Distance_To_Roadways,Hillshade_9am,Hillshade_Noon,Hillshade_3pm,Horizontal_Distance_To_Fire_Points,Wilderness_Area1,Wilderness_Area2,Wilderness_Area3,Wilderness_Area4,Soil_Type1,Soil_Type2,Soil_Type3,Soil_Type4,Soil_Type5,Soil_Type6,Soil_Type7,Soil_Type8,Soil_Type9,Soil_Type10,Soil_Type11,Soil_Type12,Soil_Type13,Soil_Type14,Soil_Type15,Soil_Type16,Soil_Type17,Soil_Type18,Soil_Type19,Soil_Type20,Soil_Type21,Soil_Type22,Soil_Type23,Soil_Type24,Soil_Type25,Soil_Type26,Soil_Type27,Soil_Type28,Soil_Type29,Soil_Type30,Soil_Type31,Soil_Type32,Soil_Type33,Soil_Type34,Soil_Type35,Soil_Type36,Soil_Type37,Soil_Type38,Soil_Type39,Soil_Type40,Cover_Type</th>\n    </tr>\n  </thead>\n  <tbody>\n    <tr>\n      <th>0</th>\n      <td>2596,51,3,258,0,510,221,232,148,6279,1,0,0,0,0...</td>\n    </tr>\n    <tr>\n      <th>1</th>\n      <td>2590,56,2,212,-6,390,220,235,151,6225,1,0,0,0,...</td>\n    </tr>\n    <tr>\n      <th>2</th>\n      <td>2804,139,9,268,65,3180,234,238,135,6121,1,0,0,...</td>\n    </tr>\n    <tr>\n      <th>3</th>\n      <td>2785,155,18,242,118,3090,238,238,122,6211,1,0,...</td>\n    </tr>\n    <tr>\n      <th>4</th>\n      <td>2595,45,2,153,-1,391,220,234,150,6172,1,0,0,0,...</td>\n    </tr>\n  </tbody>\n</table>\n</div>"
     },
     "metadata": {},
     "execution_count": 4
    }
   ],
   "source": [
    "df.head()"
   ]
  },
  {
   "cell_type": "markdown",
   "metadata": {},
   "source": [
    "### Visualizando a base de dados\n",
    "\n",
    "1. Baseando-se nos fundamentos de visualização de dados abordados na disciplina, plote cada um dos atributos preditores de maneira a enfatizar a sua distribuição, tendência central e dispersão  \n",
    "1.1 Considere que o número de columas no dataset é diferente do número de atributos, conforme discussão promovida a respeito do dataset  \n",
    "1.2 Se preferir, opte por complementar as informações visuais com medidas estatísticas  \n",
    "2. A partir da visualização elaborada, o que pode-se dizer a respeito do balanceamento do atributo-alvo?\n",
    "3. Que tipo de tarefa de Aprendizado de Máquina é sugestiva para este problema?  \n",
    "3.1 Apresente métricas de desempenho compatíveis para a avaliação do problema (liste-as)  \n",
    "3.2 Escolha uma das métricas apresentadas para ser utilizada como referência pela equipe"
   ]
  },
  {
   "cell_type": "code",
   "execution_count": null,
   "metadata": {},
   "outputs": [],
   "source": []
  },
  {
   "cell_type": "code",
   "execution_count": null,
   "metadata": {},
   "outputs": [],
   "source": []
  },
  {
   "cell_type": "code",
   "execution_count": null,
   "metadata": {},
   "outputs": [],
   "source": []
  },
  {
   "cell_type": "code",
   "execution_count": null,
   "metadata": {},
   "outputs": [],
   "source": []
  },
  {
   "cell_type": "code",
   "execution_count": null,
   "metadata": {},
   "outputs": [],
   "source": []
  },
  {
   "cell_type": "code",
   "execution_count": null,
   "metadata": {},
   "outputs": [],
   "source": []
  }
 ],
 "metadata": {
  "kernelspec": {
   "display_name": "Python 3.8.1 64-bit",
   "language": "python",
   "name": "python_defaultSpec_1602266691412"
  },
  "language_info": {
   "codemirror_mode": {
    "name": "ipython",
    "version": 3
   },
   "file_extension": ".py",
   "mimetype": "text/x-python",
   "name": "python",
   "nbconvert_exporter": "python",
   "pygments_lexer": "ipython3",
   "version": "3.8.1-final"
  }
 },
 "nbformat": 4,
 "nbformat_minor": 4
}