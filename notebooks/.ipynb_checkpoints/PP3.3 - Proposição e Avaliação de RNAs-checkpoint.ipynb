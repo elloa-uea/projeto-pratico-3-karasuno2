{
 "cells": [
  {
   "cell_type": "markdown",
   "metadata": {},
   "source": [
    "## Redes Neurais Artificiais 2020.1\n",
    "\n",
    "**Disciplina**: Redes Neurais Artificiais 2020.1  \n",
    "**Professora**: Elloá B. Guedes (ebgcosta@uea.edu.br)  \n",
    "**Github**: http://github.com/elloa  \n",
    "        \n",
    "\n",
    "Levando em conta a base de dados **_Forest Cover Type_**, esta terceira parte do Projeto Prático 3 diz respeito à proposição e avaliação de múltiplas redes neurais artificiais do tipo feedforward multilayer perceptron para o problema da classificação multi-classe da cobertura florestal em uma área do Roosevelt National Forest.\n",
    "\n",
    "## Testando Redes Neurais sem os Atributos Categórios\n",
    "\n",
    "1. Abra a base de dados em questão\n",
    "2. Elimine todas as colunas relativas aos atributos categóricos\n",
    "3. Armazene o atributo alvo em uma variável y e os atributos preditores em uma variável X\n",
    "4. Efetue uma partição holdout 70/30 com o sklearn, distribuindo os exemplos de maneira aleatória\n",
    "5. Efetue o escalonamento dos atributos\n",
    "\n",
    "### Escalonando os atributos\n",
    "\n",
    "O treinamento de uma rede neural artificial é mais eficiente quando os valores que lhes são fornecidos como entrada são pequenos, pois isto favorece a convergência. Isto é feito escalonando-se todos os atributos para o intervalo [0,1], mas precisa ser feito de maneira cautelosa, para que informações do conjunto de teste não sejam fornecidas no treinamento.\n",
    "\n",
    "Há duas estratégias para tal escalonamento: normalização e padronização. Ambas possuem características particulares, vantagens e limitações, como é possível ver aqui: https://www.analyticsvidhya.com/blog/2020/04/feature-scaling-machine-learning-normalization-standardization/\n",
    "\n",
    "\n",
    "No nosso caso, vamos usar a padronização. Assim, com os atributos preditores do treinamento, isto é, X_train, deve-se subtrair a média e dividir pelo desvio padrão:\n",
    "\n",
    "X_train_std = (X_train - np.mean(X_train))/np.std(X_train)\n",
    "\n",
    "Em seguida, o mesmo deve ser feito com os atributos preditores do conjunto de testes, mas com padronização relativa ao conjunto de treinamento:\n",
    "\n",
    "X_test_std = (X_test - np.mean(X_train))/np.std(X_train)\n",
    "\n",
    "Se todo o conjunto X for utilizado na padronização, a rede neural receberá informações do conjunto de teste por meio da média e variância utilizada para preparar os dados de treinamento, o que não é desejável.\n",
    "\n",
    "\n",
    "### Continuando\n",
    "\n",
    "5. Treine uma rede neural multilayer perceptron para este problema com uma única camada e dez neurônios  \n",
    "    5.1 Utilize a função de ativação ReLU  \n",
    "    5.2 Utilize o solver Adam    \n",
    "    5.3 Imprima o passo a passo do treinamento    \n",
    "    5.4 Utilize o número máximo de épocas igual a 300  \n",
    "6. Com o modelo em questão, após o treinamento, apresente:  \n",
    "    6.1 Matriz de confusão para o conjunto de teste  \n",
    "    6.2 Acurácia  \n",
    "    6.3 F-Score  \n",
    "    6.4 Precisão  \n",
    "    6.5 Revocação  \n",
    "7. Repita o treinamento da mesma rede anterior sem imprimir o passo a passo (verbose False) por 100 vezes  \n",
    "    7.1 Cada uma destas repetições deve ser feita com uma nova partição Holdout  \n",
    "    7.2 Apresente a média e o desvio padrão da acurácia e do F-Score para o conjunto de treino  \n",
    "8. Repita por 100 vezes o treinamento desta mesma rede, mas utilizando o otimizador SGD  \n",
    "    8.1 Apresente a média e o desvio padrão da acurácia e do F-Score para o conjunto de treino  \n",
    "9. Houve influência da escolha do otimizador no desempenho da rede?"
   ]
  },
  {
   "cell_type": "code",
   "execution_count": 1,
   "metadata": {},
   "outputs": [],
   "source": [
    "# Reservado para a importação de bibliotecas\n",
    "import pandas as pd\n",
    "import numpy as np\n",
    "from sklearn.model_selection import train_test_split\n",
    "from sklearn.neural_network import MLPClassifier\n",
    "from sklearn.metrics import confusion_matrix\n",
    "from sklearn.metrics import plot_confusion_matrix\n",
    "import seaborn as sns\n",
    "import matplotlib.pyplot as plt\n",
    "from sklearn.metrics import confusion_matrix, f1_score, precision_score, recall_score, accuracy_score"
   ]
  },
  {
   "cell_type": "code",
   "execution_count": 2,
   "metadata": {},
   "outputs": [],
   "source": [
    "# 1. Abra a base de dados em questão\n",
    "df = pd.read_csv('dataset/covtype.csv', sep = ',')"
   ]
  },
  {
   "cell_type": "code",
   "execution_count": 3,
   "metadata": {},
   "outputs": [],
   "source": [
    "# 2. Elimine todas as colunas relativas aos atributos categóricos\n",
    "df_attributes = df.drop(['Wilderness_Area1','Wilderness_Area2','Wilderness_Area3','Wilderness_Area4','Soil_Type1', 'Soil_Type2', 'Soil_Type3', 'Soil_Type4', 'Soil_Type5', 'Soil_Type6', 'Soil_Type7', 'Soil_Type8', 'Soil_Type9', 'Soil_Type10', 'Soil_Type11', 'Soil_Type12', 'Soil_Type13', 'Soil_Type14', 'Soil_Type15', 'Soil_Type16', 'Soil_Type17', 'Soil_Type18', 'Soil_Type19', 'Soil_Type20', 'Soil_Type21', 'Soil_Type22', 'Soil_Type23', 'Soil_Type24', 'Soil_Type25', 'Soil_Type26', 'Soil_Type27', 'Soil_Type28', 'Soil_Type29', 'Soil_Type30', 'Soil_Type31', 'Soil_Type32', 'Soil_Type33', 'Soil_Type34', 'Soil_Type35', 'Soil_Type36', 'Soil_Type37', 'Soil_Type38', 'Soil_Type39', 'Soil_Type40'], axis = 1).dropna()"
   ]
  },
  {
   "cell_type": "code",
   "execution_count": 4,
   "metadata": {},
   "outputs": [],
   "source": [
    "# 3. Armazene o atributo alvo em uma variável y e os atributos preditores em uma variável X\n",
    "y = df_attributes['Cover_Type']\n",
    "X = df_attributes.drop('Cover_Type', axis = 1)"
   ]
  },
  {
   "cell_type": "code",
   "execution_count": 5,
   "metadata": {},
   "outputs": [],
   "source": [
    "# 4. Efetue uma partição holdout 70/30 com o sklearn, distribuindo os exemplos de maneira aleatória\n",
    "X_train, X_test, y_train, y_test = train_test_split(X, y, test_size=0.3)"
   ]
  },
  {
   "cell_type": "code",
   "execution_count": 6,
   "metadata": {},
   "outputs": [],
   "source": [
    "# 5. Efetue o escalonamento dos atributos\n",
    "X_train_std = (X_train - np.mean(X_train)) / np.std(X_train)\n",
    "X_test_std = (X_test - np.mean(X_train)) / np.std(X_train)"
   ]
  },
  {
   "cell_type": "code",
   "execution_count": 7,
   "metadata": {},
   "outputs": [
    {
     "name": "stdout",
     "output_type": "stream",
     "text": [
      "Iteration 1, loss = 0.92765055\n",
      "Iteration 2, loss = 0.70758994\n",
      "Iteration 3, loss = 0.68892026\n",
      "Iteration 4, loss = 0.68026363\n",
      "Iteration 5, loss = 0.67402233\n",
      "Iteration 6, loss = 0.66988300\n",
      "Iteration 7, loss = 0.66756255\n",
      "Iteration 8, loss = 0.66609690\n",
      "Iteration 9, loss = 0.66474706\n",
      "Iteration 10, loss = 0.66373022\n",
      "Iteration 11, loss = 0.66286903\n",
      "Iteration 12, loss = 0.66209574\n",
      "Iteration 13, loss = 0.66131509\n",
      "Iteration 14, loss = 0.66061059\n",
      "Iteration 15, loss = 0.65990320\n",
      "Iteration 16, loss = 0.65932351\n",
      "Iteration 17, loss = 0.65874958\n",
      "Iteration 18, loss = 0.65828770\n",
      "Iteration 19, loss = 0.65769894\n",
      "Iteration 20, loss = 0.65740434\n",
      "Iteration 21, loss = 0.65713214\n",
      "Iteration 22, loss = 0.65685121\n",
      "Iteration 23, loss = 0.65663717\n",
      "Iteration 24, loss = 0.65646028\n",
      "Iteration 25, loss = 0.65630332\n",
      "Iteration 26, loss = 0.65606577\n",
      "Iteration 27, loss = 0.65591696\n",
      "Iteration 28, loss = 0.65583588\n",
      "Iteration 29, loss = 0.65565407\n",
      "Iteration 30, loss = 0.65552339\n",
      "Iteration 31, loss = 0.65548655\n",
      "Iteration 32, loss = 0.65536043\n",
      "Iteration 33, loss = 0.65523397\n",
      "Iteration 34, loss = 0.65509787\n",
      "Iteration 35, loss = 0.65507753\n",
      "Iteration 36, loss = 0.65501247\n",
      "Iteration 37, loss = 0.65478168\n",
      "Iteration 38, loss = 0.65476805\n",
      "Iteration 39, loss = 0.65462992\n",
      "Iteration 40, loss = 0.65453088\n",
      "Iteration 41, loss = 0.65448886\n",
      "Iteration 42, loss = 0.65448918\n",
      "Iteration 43, loss = 0.65440588\n",
      "Iteration 44, loss = 0.65433164\n",
      "Iteration 45, loss = 0.65425837\n",
      "Iteration 46, loss = 0.65428283\n",
      "Iteration 47, loss = 0.65419540\n",
      "Iteration 48, loss = 0.65411891\n",
      "Iteration 49, loss = 0.65414619\n",
      "Iteration 50, loss = 0.65406751\n",
      "Training loss did not improve more than tol=0.000100 for 10 consecutive epochs. Stopping.\n"
     ]
    }
   ],
   "source": [
    "# 5. Treine uma rede neural multilayer perceptron para este problema com uma única camada e dez neurônios\n",
    "layer = 1\n",
    "neuron = 10\n",
    "final_layer = [neuron] * layer\n",
    "\n",
    "# 5.1 Utilize a função de ativação ReLU\n",
    "activation = 'relu'\n",
    "\n",
    "# 5.2 Utilize o solver Adam\n",
    "solver = 'adam'\n",
    "\n",
    "# 5.3 Imprima o passo a passo do treinamento\n",
    "print_training = True\n",
    "\n",
    "# 5.4 Utilize o número máximo de épocas igual a 300\n",
    "max_times = 300\n",
    "\n",
    "training = MLPClassifier(hidden_layer_sizes = final_layer, activation = activation, solver = solver, random_state = 1, max_iter = max_times, verbose = print_training).fit(X_train_std, y_train) "
   ]
  },
  {
   "cell_type": "code",
   "execution_count": 8,
   "metadata": {},
   "outputs": [],
   "source": [
    "# 6. Com o modelo em questão, após o treinamento, apresente:\n",
    "predictions = training.predict(X_test_std)\n",
    "confusion_matrix = pd.crosstab(y_test, predictions)"
   ]
  },
  {
   "cell_type": "code",
   "execution_count": 9,
   "metadata": {},
   "outputs": [
    {
     "data": {
      "image/png": "[encoded data removed]",
      "text/plain": [
       "<Figure size 720x720 with 2 Axes>"
      ]
     },
     "metadata": {
      "needs_background": "light"
     },
     "output_type": "display_data"
    },
    {
     "name": "stdout",
     "output_type": "stream",
     "text": [
      "Acurácia:  0.7144873324765926\n",
      "F-Score:  0.5066929180914783\n",
      "Precisão:  0.6687439080862309\n",
      "Revocação:  0.47437463067444696\n"
     ]
    }
   ],
   "source": [
    "# 6.1 Matriz de confusão para o conjunto de teste\n",
    "fig, ax = plt.subplots(figsize = (10, 10))\n",
    "sns.heatmap(confusion_matrix, annot = True, ax = ax, fmt = 'd')\n",
    "plt.show()\n",
    "\n",
    "# 6.2 Acurácia\n",
    "print('Acurácia: ', accuracy_score(y_test,predictions))\n",
    "\n",
    "# 6.3 F-Score\n",
    "print('F-Score: ', f1_score(y_test,predictions, average = 'macro'))\n",
    "\n",
    "# 6.4 Precisão\n",
    "print('Precisão: ', precision_score(y_test,predictions, average = 'macro'))\n",
    "\n",
    "# 6.5 Revocação\n",
    "print('Revocação: ', recall_score(y_test,predictions, average = 'macro'))"
   ]
  },
  {
   "cell_type": "code",
   "execution_count": 21,
   "metadata": {},
   "outputs": [],
   "source": [
    "# 7.2 Apresente a média e o desvio padrão da acurácia e do F-Score para o conjunto de treino\n",
    "accuracy = []\n",
    "fscore = []\n",
    "\n",
    "# 7.1 Cada uma destas repetições deve ser feita com uma nova partição Holdout\n",
    "def training():\n",
    "    X_train, X_test, y_train, y_test = train_test_split(X, y, test_size=0.3)\n",
    "    X_train_std = (X_train - np.mean(X_train)) / np.std(X_train)\n",
    "    X_test_std = (X_test - np.mean(X_train)) / np.std(X_train)\n",
    "    training = MLPClassifier(hidden_layer_sizes = final_layer, activation = activation, solver = solver, random_state = 1, max_iter = max_times, verbose = print_training).fit(X_train_std, y_train)\n",
    "    predictions = training.predict(X_test_std)\n",
    "    \n",
    "    accuracy.append(accuracy_score(y_test,predictions))\n",
    "    fscore.append(f1_score(y_test,predictions, average = 'macro'))\n",
    "\n",
    "# 7. Repita o treinamento da mesma rede anterior sem imprimir o passo a passo (verbose False) por 100 vezes\n",
    "print_training = False\n",
    "for i in range(100):\n",
    "    training()"
   ]
  },
  {
   "cell_type": "code",
   "execution_count": 25,
   "metadata": {},
   "outputs": [
    {
     "name": "stdout",
     "output_type": "stream",
     "text": [
      "Acurácia: média = 0.7163863135671011 e desvio padrão = 0.0001950615017440871\n",
      "F-Score: média = 0.5188056559817629 e desvio padrão = 0.00048484995994596547\n"
     ]
    }
   ],
   "source": [
    "print('Acurácia: média =', np.mean(accuracy), 'e desvio padrão =', np.std(accuracy))\n",
    "print('F-Score: média =', np.mean(fscore), 'e desvio padrão =', np.std(fscore))"
   ]
  },
  {
   "cell_type": "code",
   "execution_count": 35,
   "metadata": {},
   "outputs": [],
   "source": [
    "# 8. Repita por 100 vezes o treinamento desta mesma rede, mas utilizando o otimizador SGD\n",
    "solver = 'sgd'\n",
    "accuracy = []\n",
    "fscore = []\n",
    "\n",
    "for i in range(2):\n",
    "    training()"
   ]
  },
  {
   "cell_type": "code",
   "execution_count": 37,
   "metadata": {},
   "outputs": [
    {
     "name": "stdout",
     "output_type": "stream",
     "text": [
      "Acurácia: média = 0.6955233385349734 e desvio padrão = 0.0005651046447585628\n",
      "F-Score: média = 0.4272705926371475 e desvio padrão = 0.0031232546979116094\n"
     ]
    }
   ],
   "source": [
    "# 8.1 Apresente a média e o desvio padrão da acurácia e do F-Score para o conjunto de treino\n",
    "print('Acurácia: média =', np.mean(accuracy), 'e desvio padrão =', np.std(accuracy))\n",
    "print('F-Score: média =', np.mean(fscore), 'e desvio padrão =', np.std(fscore))"
   ]
  },
  {
   "cell_type": "markdown",
   "metadata": {},
   "source": [
    "**9.** Sim, houve diferença entre eles. Quanto ao tempo de execução, o otimizador Adam teve um melhor resultado, porém o SGD demonstrou um melhor resultado."
   ]
  },
  {
   "cell_type": "markdown",
   "metadata": {},
   "source": [
    "## Discussão\n",
    "\n",
    "Nos passos anteriores, você avaliou o desempenho de uma única rede neural que contém os seguintes parâmetros: uma única camada oculta com 10 neurônios e função de ativação ReLU. O otimizador utilizado, quer seja SGD ou ADAM, trata-se do algoritmo para aproximar o gradiente do erro. Neste sentido, a escolha do otimizador é um hiperparâmetro, pois diz respeito a como a rede neural definida previamente atuará \"em tempo de execução\"  durante o processo de treinamento. Também são hiperparâmetros a quantidade de épocas, a taxa de aprendizado inicial, dentre outros.\n",
    "\n",
    "Cabe alientar também que você efetuou o treinamento desta rede por 100 vezes e apresentou os resultados em termos de média +- desvio padrão. Lembre-se que em uma rede neural há a inicialização aleatória de pesos e, em consequência, o desempenho delas está sujeito à uma flutuação estocástica. A execução destas múltiplas vezes faz com que eliminemos algum viés introduzido por uma boa ou má \"sorte\" na escolha de pesos no caso de uma única execução.\n",
    "\n",
    "Você também aprendeu uma estratégia para escalonar os atributos para uma melhor convergência da rede. Utilize-a em todos os treinamentos e testes propostos a seguir.\n",
    "\n",
    "## Propondo Novas Arquiteturas\n",
    "\n",
    "Variando  os parâmetros (uma ou duas camadas ocultas, com diferente números de neurônios em cada uma delas e a função de ativação) e o hiperparâmetros solver (Adam ou SGD) e o número de épocas (100,150 e 200), atenda ao que se pede:\n",
    "\n",
    "1. Proponha 10 arquiteturas distintas de RNAs para o problema em questão, à sua escolha\n",
    "2. Avalie cada uma das arquiteturas perante todos os hiperparâmetros apresentados por 100 vezes\n",
    "3. Como resultado da avaliação, apresente:  \n",
    "    3.1 Top-3 melhores redes no tocante à F-Score e Acurácia  \n",
    "    3.2 Repetição em que houve o melhor desempenho de cada uma dessas redes: ilustre tp, tf, fp e fn  "
   ]
  },
  {
   "cell_type": "code",
   "execution_count": 34,
   "metadata": {},
   "outputs": [],
   "source": [
    "# 1. Proponha 10 arquiteturas distintas de RNAs para o problema em questão, à sua escolha\n",
    "architectures = [[1, 10, 'relu', 'sgd', 100], \n",
    "                [2, 10, 'relu', 'adam', 150],\n",
    "                [1, 20, 'relu', 'adam', 200],\n",
    "                [1, 20, 'tanh', 'adam', 100],\n",
    "                [2, 10, 'tanh', 'sgd', 200],\n",
    "                [1, 10, 'tanh', 'sgd', 150],\n",
    "                [2, 20, 'logistic', 'adam', 100],\n",
    "                [1, 20, 'logistic', 'sgd', 150],\n",
    "                [2, 10, 'identity', 'adam', 100],\n",
    "                [2, 20, 'identity', 'sgd', 150]]\n",
    "\n",
    "arch_accuracy = []\n",
    "arch_fscore = []\n",
    "\n",
    "# Avalie cada uma das arquiteturas perante todos os hiperparâmetros apresentados por 100 vezes\n",
    "for i in architectures:\n",
    "    layer = i[0]\n",
    "    neuron = i[1]\n",
    "    final_layer = [neuron] * layer\n",
    "    activation = i[2]\n",
    "    solver = i[3]\n",
    "    max_times = i[4]\n",
    "    accuracy = []\n",
    "    fscore = []\n",
    "    \n",
    "    for i in range(2):\n",
    "        training()\n",
    "        \n",
    "        arch_accuracy.append(accuracy)\n",
    "        arch_fscore.append(fscore)"
   ]
  },
  {
   "cell_type": "code",
   "execution_count": null,
   "metadata": {},
   "outputs": [],
   "source": [
    "# Como resultado da avaliação, apresente:\n",
    "# 3.1 Top-3 melhores redes no tocante à F-Score e Acurácia\n",
    "print(arch_accuracy.sort_values, ascending=False)\n",
    "print(arch_fscore.sort_values, ascending=False)\n",
    "\n",
    "# 3.2 Repetição em que houve o melhor desempenho de cada uma dessas redes: ilustre tp, tf, fp e fn"
   ]
  },
  {
   "cell_type": "markdown",
   "metadata": {},
   "source": [
    "## Estimando o número de neurônios\n",
    "\n",
    "Um dos problemas de pesquisa com redes neurais artificiais consiste na determinação do número de neurônios em sua arquitetura. Embora não seja possível definir a priori qual rede neural é adequada para um problema, pois isto só é possível mediante uma busca exaustiva, há regras na literatura que sugerem o número de neurônios escondidos, tal como a regra da Pirâmide Geométrica, dada a seguir:\n",
    "\n",
    "$$N_h = \\alpha \\cdot \\sqrt{N_i \\cdot N_o},$$\n",
    "\n",
    "em que $N_h$ é o número de neurônios ocultos (a serem distribuídos em uma ou duas camadas ocultas), $N_i$ é o número de neurônios na camada de entrada e $N_o$ é o número de neurônios na camada de saída. \n",
    "\n",
    "1. Consulte a documentação da classe MLPClassifier (disponível em https://scikit-learn.org/stable/modules/generated/sklearn.neural_network.MLPClassifier.html) e obtenha os valores de $N_i$ e $N_h$.\n",
    "2. Teste os valores de $\\alpha$ como sendo iguais a $0.5$, $2$ e $3$.\n",
    "3. Proponha pelo menos 30 redes neurais segundo a regra da pirâmide geométrica e teste-as nos mesmos termos estabelecidos anterioremente  (solver, épocas, etc.)  \n",
    "    3.1 Apresente as top-3 melhores redes no tocante à F-Score e Acurácia  "
   ]
  },
  {
   "cell_type": "code",
   "execution_count": null,
   "metadata": {},
   "outputs": [],
   "source": []
  },
  {
   "cell_type": "markdown",
   "metadata": {},
   "source": [
    "## Testando as Redes Neurais com Atributos Categóricos\n",
    "\n",
    "1. Considere as 6 redes neurais obtidas nos dois top-3 anteriores (arquiteturas próprias e regra da pirâmide geométrica)\n",
    "2. Com todos os atributos preditores da base de dados original, incluindo os categóricos, treine e teste estas mesmas redes por 100 repetições  \n",
    "    2.1 Considere o melhor otimizador para cada uma delas  \n",
    "    2.2 Faça uso de 200 épocas para treinamento  \n",
    "    2.2 Apresente os resultados de acurácia e F-Score em termos da média +- dp para cada arquitetura\n",
    "3. Apresente o gráfico boxplot para o F-Score das 6 arquiteturas perante as 100 repetições"
   ]
  },
  {
   "cell_type": "code",
   "execution_count": null,
   "metadata": {},
   "outputs": [],
   "source": []
  },
  {
   "cell_type": "markdown",
   "metadata": {},
   "source": [
    "## Considerações Parciais\n",
    "\n",
    "1. É possível identificar uma rede com desempenho superior às demais?\n",
    "2. Qual estratégia mostrou-se mais producente para a obtenção de boas arquiteturas (Estratégia Própria ou Pirâmide Geométrica)? Por quê?\n",
    "3. Considerar os atributos categóricos trouxe melhorias? Justifique.\n",
    "4. Um número maior de épocas trouxe melhorias?\n",
    "5. Qual a maior dificuldade de resolução do problema proposto perante as RNAs?"
   ]
  },
  {
   "cell_type": "code",
   "execution_count": null,
   "metadata": {},
   "outputs": [],
   "source": []
  }
 ],
 "metadata": {
  "kernelspec": {
   "display_name": "Python 3",
   "language": "python",
   "name": "python3"
  },
  "language_info": {
   "codemirror_mode": {
    "name": "ipython",
    "version": 3
   },
   "file_extension": ".py",
   "mimetype": "text/x-python",
   "name": "python",
   "nbconvert_exporter": "python",
   "pygments_lexer": "ipython3",
   "version": "3.8.3"
  }
 },
 "nbformat": 4,
 "nbformat_minor": 4
}
