{
 "cells": [
  {
   "cell_type": "markdown",
   "metadata": {},
   "source": [
    "## Redes Neurais Artificiais 2020.1\n",
    "\n",
    "**Disciplina**: Redes Neurais Artificiais 2020.1  \n",
    "**Professora**: Elloá B. Guedes (ebgcosta@uea.edu.br)  \n",
    "**Github**: http://github.com/elloa  \n",
    "        \n",
    "\n",
    "Levando em conta a base de dados **_Forest Cover Type_**, esta terceira parte do Projeto Prático 3 diz respeito à proposição e avaliação de múltiplas redes neurais artificiais do tipo feedforward multilayer perceptron para o problema da classificação multi-classe da cobertura florestal em uma área do Roosevelt National Forest.\n",
    "\n",
    "## Testando Redes Neurais sem os Atributos Categórios\n",
    "\n",
    "1. Abra a base de dados em questão\n",
    "2. Elimine todas as colunas relativas aos atributos categóricos\n",
    "3. Armazene o atributo alvo em uma variável y e os atributos preditores em uma variável X\n",
    "4. Efetue uma partição holdout 70/30 com o sklearn, distribuindo os exemplos de maneira aleatória\n",
    "5. Efetue o escalonamento dos atributos\n",
    "\n",
    "### Escalonando os atributos\n",
    "\n",
    "O treinamento de uma rede neural artificial é mais eficiente quando os valores que lhes são fornecidos como entrada são pequenos, pois isto favorece a convergência. Isto é feito escalonando-se todos os atributos para o intervalo [0,1], mas precisa ser feito de maneira cautelosa, para que informações do conjunto de teste não sejam fornecidas no treinamento.\n",
    "\n",
    "Há duas estratégias para tal escalonamento: normalização e padronização. Ambas possuem características particulares, vantagens e limitações, como é possível ver aqui: https://www.analyticsvidhya.com/blog/2020/04/feature-scaling-machine-learning-normalization-standardization/\n",
    "\n",
    "\n",
    "No nosso caso, vamos usar a padronização. Assim, com os atributos preditores do treinamento, isto é, X_train, deve-se subtrair a média e dividir pelo desvio padrão:\n",
    "\n",
    "X_train_std = (X_train - np.mean(X_train))/np.std(X_train)\n",
    "\n",
    "Em seguida, o mesmo deve ser feito com os atributos preditores do conjunto de testes, mas com padronização relativa ao conjunto de treinamento:\n",
    "\n",
    "X_test_std = (X_test - np.mean(X_train))/np.std(X_train)\n",
    "\n",
    "Se todo o conjunto X for utilizado na padronização, a rede neural receberá informações do conjunto de teste por meio da média e variância utilizada para preparar os dados de treinamento, o que não é desejável.\n",
    "\n",
    "\n",
    "### Continuando\n",
    "\n",
    "5. Treine uma rede neural multilayer perceptron para este problema com uma única camada e dez neurônios  \n",
    "    5.1 Utilize a função de ativação ReLU  \n",
    "    5.2 Utilize o solver Adam    \n",
    "    5.3 Imprima o passo a passo do treinamento    \n",
    "    5.4 Utilize o número máximo de épocas igual a 300  \n",
    "6. Com o modelo em questão, após o treinamento, apresente:  \n",
    "    6.1 Matriz de confusão para o conjunto de teste  \n",
    "    6.2 Acurácia  \n",
    "    6.3 F-Score  \n",
    "    6.4 Precisão  \n",
    "    6.5 Revocação  \n",
    "7. Repita o treinamento da mesma rede anterior sem imprimir o passo a passo (verbose False) por 100 vezes  \n",
    "    7.1 Cada uma destas repetições deve ser feita com uma nova partição Holdout  \n",
    "    7.2 Apresente a média e o desvio padrão da acurácia e do F-Score para o conjunto de treino  \n",
    "8. Repita por 100 vezes o treinamento desta mesma rede, mas utilizando o otimizador SGD  \n",
    "    8.1 Apresente a média e o desvio padrão da acurácia e do F-Score para o conjunto de treino  \n",
    "9. Houve influência da escolha do otimizador no desempenho da rede?"
   ]
  },
  {
   "cell_type": "code",
   "execution_count": 4,
   "metadata": {},
   "outputs": [],
   "source": [
    "import pandas as pd\n",
    "import numpy as np\n",
    "#Abra a base de dados em questão\n",
    "df = pd.read_csv('dataset/covtype.csv', sep=',')\n",
    "#Elimine todas as colunas relativas aos atributos categóricos\n",
    "df = df.drop(['Wilderness_Area1','Wilderness_Area2','Wilderness_Area3','Wilderness_Area4','Soil_Type1', 'Soil_Type2', 'Soil_Type3', 'Soil_Type4', 'Soil_Type5', 'Soil_Type6', 'Soil_Type7', 'Soil_Type8', 'Soil_Type9', 'Soil_Type10', 'Soil_Type11', 'Soil_Type12', 'Soil_Type13', 'Soil_Type14', 'Soil_Type15', 'Soil_Type16', 'Soil_Type17', 'Soil_Type18', 'Soil_Type19', 'Soil_Type20', 'Soil_Type21', 'Soil_Type22', 'Soil_Type23', 'Soil_Type24', 'Soil_Type25', 'Soil_Type26', 'Soil_Type27', 'Soil_Type28', 'Soil_Type29', 'Soil_Type30', 'Soil_Type31', 'Soil_Type32', 'Soil_Type33', 'Soil_Type34', 'Soil_Type35', 'Soil_Type36', 'Soil_Type37', 'Soil_Type38', 'Soil_Type39', 'Soil_Type40'], axis=1).dropna()\n",
    "#Armazene o atributo alvo em uma variável y e os atributos preditores em uma variável X\n",
    "#Efetue uma partição holdout 70/30 com o sklearn, distribuindo os exemplos de maneira aleatória\n",
    "#Efetue o escalonamento dos atributos\n"
   ]
  },
  {
   "cell_type": "code",
   "execution_count": 5,
   "metadata": {},
   "outputs": [
    {
     "output_type": "execute_result",
     "data": {
      "text/plain": [
       "   Elevation  Aspect  Slope  Horizontal_Distance_To_Hydrology  \\\n",
       "0       2596      51      3                               258   \n",
       "1       2590      56      2                               212   \n",
       "2       2804     139      9                               268   \n",
       "3       2785     155     18                               242   \n",
       "4       2595      45      2                               153   \n",
       "5       2579     132      6                               300   \n",
       "6       2606      45      7                               270   \n",
       "7       2605      49      4                               234   \n",
       "8       2617      45      9                               240   \n",
       "9       2612      59     10                               247   \n",
       "\n",
       "   Vertical_Distance_To_Hydrology  Horizontal_Distance_To_Roadways  \\\n",
       "0                               0                              510   \n",
       "1                              -6                              390   \n",
       "2                              65                             3180   \n",
       "3                             118                             3090   \n",
       "4                              -1                              391   \n",
       "5                             -15                               67   \n",
       "6                               5                              633   \n",
       "7                               7                              573   \n",
       "8                              56                              666   \n",
       "9                              11                              636   \n",
       "\n",
       "   Hillshade_9am  Hillshade_Noon  Hillshade_3pm  \\\n",
       "0            221             232            148   \n",
       "1            220             235            151   \n",
       "2            234             238            135   \n",
       "3            238             238            122   \n",
       "4            220             234            150   \n",
       "5            230             237            140   \n",
       "6            222             225            138   \n",
       "7            222             230            144   \n",
       "8            223             221            133   \n",
       "9            228             219            124   \n",
       "\n",
       "   Horizontal_Distance_To_Fire_Points  Cover_Type  \n",
       "0                                6279           5  \n",
       "1                                6225           5  \n",
       "2                                6121           2  \n",
       "3                                6211           2  \n",
       "4                                6172           5  \n",
       "5                                6031           2  \n",
       "6                                6256           5  \n",
       "7                                6228           5  \n",
       "8                                6244           5  \n",
       "9                                6230           5  "
      ],
      "text/html": "<div>\n<style scoped>\n    .dataframe tbody tr th:only-of-type {\n        vertical-align: middle;\n    }\n\n    .dataframe tbody tr th {\n        vertical-align: top;\n    }\n\n    .dataframe thead th {\n        text-align: right;\n    }\n</style>\n<table border=\"1\" class=\"dataframe\">\n  <thead>\n    <tr style=\"text-align: right;\">\n      <th></th>\n      <th>Elevation</th>\n      <th>Aspect</th>\n      <th>Slope</th>\n      <th>Horizontal_Distance_To_Hydrology</th>\n      <th>Vertical_Distance_To_Hydrology</th>\n      <th>Horizontal_Distance_To_Roadways</th>\n      <th>Hillshade_9am</th>\n      <th>Hillshade_Noon</th>\n      <th>Hillshade_3pm</th>\n      <th>Horizontal_Distance_To_Fire_Points</th>\n      <th>Cover_Type</th>\n    </tr>\n  </thead>\n  <tbody>\n    <tr>\n      <th>0</th>\n      <td>2596</td>\n      <td>51</td>\n      <td>3</td>\n      <td>258</td>\n      <td>0</td>\n      <td>510</td>\n      <td>221</td>\n      <td>232</td>\n      <td>148</td>\n      <td>6279</td>\n      <td>5</td>\n    </tr>\n    <tr>\n      <th>1</th>\n      <td>2590</td>\n      <td>56</td>\n      <td>2</td>\n      <td>212</td>\n      <td>-6</td>\n      <td>390</td>\n      <td>220</td>\n      <td>235</td>\n      <td>151</td>\n      <td>6225</td>\n      <td>5</td>\n    </tr>\n    <tr>\n      <th>2</th>\n      <td>2804</td>\n      <td>139</td>\n      <td>9</td>\n      <td>268</td>\n      <td>65</td>\n      <td>3180</td>\n      <td>234</td>\n      <td>238</td>\n      <td>135</td>\n      <td>6121</td>\n      <td>2</td>\n    </tr>\n    <tr>\n      <th>3</th>\n      <td>2785</td>\n      <td>155</td>\n      <td>18</td>\n      <td>242</td>\n      <td>118</td>\n      <td>3090</td>\n      <td>238</td>\n      <td>238</td>\n      <td>122</td>\n      <td>6211</td>\n      <td>2</td>\n    </tr>\n    <tr>\n      <th>4</th>\n      <td>2595</td>\n      <td>45</td>\n      <td>2</td>\n      <td>153</td>\n      <td>-1</td>\n      <td>391</td>\n      <td>220</td>\n      <td>234</td>\n      <td>150</td>\n      <td>6172</td>\n      <td>5</td>\n    </tr>\n    <tr>\n      <th>5</th>\n      <td>2579</td>\n      <td>132</td>\n      <td>6</td>\n      <td>300</td>\n      <td>-15</td>\n      <td>67</td>\n      <td>230</td>\n      <td>237</td>\n      <td>140</td>\n      <td>6031</td>\n      <td>2</td>\n    </tr>\n    <tr>\n      <th>6</th>\n      <td>2606</td>\n      <td>45</td>\n      <td>7</td>\n      <td>270</td>\n      <td>5</td>\n      <td>633</td>\n      <td>222</td>\n      <td>225</td>\n      <td>138</td>\n      <td>6256</td>\n      <td>5</td>\n    </tr>\n    <tr>\n      <th>7</th>\n      <td>2605</td>\n      <td>49</td>\n      <td>4</td>\n      <td>234</td>\n      <td>7</td>\n      <td>573</td>\n      <td>222</td>\n      <td>230</td>\n      <td>144</td>\n      <td>6228</td>\n      <td>5</td>\n    </tr>\n    <tr>\n      <th>8</th>\n      <td>2617</td>\n      <td>45</td>\n      <td>9</td>\n      <td>240</td>\n      <td>56</td>\n      <td>666</td>\n      <td>223</td>\n      <td>221</td>\n      <td>133</td>\n      <td>6244</td>\n      <td>5</td>\n    </tr>\n    <tr>\n      <th>9</th>\n      <td>2612</td>\n      <td>59</td>\n      <td>10</td>\n      <td>247</td>\n      <td>11</td>\n      <td>636</td>\n      <td>228</td>\n      <td>219</td>\n      <td>124</td>\n      <td>6230</td>\n      <td>5</td>\n    </tr>\n  </tbody>\n</table>\n</div>"
     },
     "metadata": {},
     "execution_count": 5
    }
   ],
   "source": []
  },
  {
   "cell_type": "markdown",
   "metadata": {},
   "source": [
    "## Discussão\n",
    "\n",
    "Nos passos anteriores, você avaliou o desempenho de uma única rede neural que contém os seguintes parâmetros: uma única camada oculta com 10 neurônios e função de ativação ReLU. O otimizador utilizado, quer seja SGD ou ADAM, trata-se do algoritmo para aproximar o gradiente do erro. Neste sentido, a escolha do otimizador é um hiperparâmetro, pois diz respeito a como a rede neural definida previamente atuará \"em tempo de execução\"  durante o processo de treinamento. Também são hiperparâmetros a quantidade de épocas, a taxa de aprendizado inicial, dentre outros.\n",
    "\n",
    "Cabe alientar também que você efetuou o treinamento desta rede por 100 vezes e apresentou os resultados em termos de média +- desvio padrão. Lembre-se que em uma rede neural há a inicialização aleatória de pesos e, em consequência, o desempenho delas está sujeito à uma flutuação estocástica. A execução destas múltiplas vezes faz com que eliminemos algum viés introduzido por uma boa ou má \"sorte\" na escolha de pesos no caso de uma única execução.\n",
    "\n",
    "Você também aprendeu uma estratégia para escalonar os atributos para uma melhor convergência da rede. Utilize-a em todos os treinamentos e testes propostos a seguir.\n",
    "\n",
    "## Propondo Novas Arquiteturas\n",
    "\n",
    "Variando  os parâmetros (uma ou duas camadas ocultas, com diferente números de neurônios em cada uma delas e a função de ativação) e o hiperparâmetros solver (Adam ou SGD) e o número de épocas (100,150 e 200), atenda ao que se pede:\n",
    "\n",
    "1. Proponha 10 arquiteturas distintas de RNAs para o problema em questão, à sua escolha\n",
    "2. Avalie cada uma das arquiteturas perante todos os hiperparâmetros apresentados por 100 vezes\n",
    "3. Como resultado da avaliação, apresente:  \n",
    "    3.1 Top-3 melhores redes no tocante à F-Score e Acurácia  \n",
    "    3.2 Repetição em que houve o melhor desempenho de cada uma dessas redes: ilustre tp, tf, fp e fn  "
   ]
  },
  {
   "cell_type": "code",
   "execution_count": null,
   "metadata": {},
   "outputs": [],
   "source": []
  },
  {
   "cell_type": "markdown",
   "metadata": {},
   "source": [
    "## Estimando o número de neurônios\n",
    "\n",
    "Um dos problemas de pesquisa com redes neurais artificiais consiste na determinação do número de neurônios em sua arquitetura. Embora não seja possível definir a priori qual rede neural é adequada para um problema, pois isto só é possível mediante uma busca exaustiva, há regras na literatura que sugerem o número de neurônios escondidos, tal como a regra da Pirâmide Geométrica, dada a seguir:\n",
    "\n",
    "$$N_h = \\alpha \\cdot \\sqrt{N_i \\cdot N_o},$$\n",
    "\n",
    "em que $N_h$ é o número de neurônios ocultos (a serem distribuídos em uma ou duas camadas ocultas), $N_i$ é o número de neurônios na camada de entrada e $N_o$ é o número de neurônios na camada de saída. \n",
    "\n",
    "1. Consulte a documentação da classe MLPClassifier (disponível em https://scikit-learn.org/stable/modules/generated/sklearn.neural_network.MLPClassifier.html) e obtenha os valores de $N_i$ e $N_h$.\n",
    "2. Teste os valores de $\\alpha$ como sendo iguais a $0.5$, $2$ e $3$.\n",
    "3. Proponha pelo menos 30 redes neurais segundo a regra da pirâmide geométrica e teste-as nos mesmos termos estabelecidos anterioremente  (solver, épocas, etc.)  \n",
    "    3.1 Apresente as top-3 melhores redes no tocante à F-Score e Acurácia  "
   ]
  },
  {
   "cell_type": "code",
   "execution_count": null,
   "metadata": {},
   "outputs": [],
   "source": []
  },
  {
   "cell_type": "markdown",
   "metadata": {},
   "source": [
    "## Testando as Redes Neurais com Atributos Categóricos\n",
    "\n",
    "1. Considere as 6 redes neurais obtidas nos dois top-3 anteriores (arquiteturas próprias e regra da pirâmide geométrica)\n",
    "2. Com todos os atributos preditores da base de dados original, incluindo os categóricos, treine e teste estas mesmas redes por 100 repetições  \n",
    "    2.1 Considere o melhor otimizador para cada uma delas  \n",
    "    2.2 Faça uso de 200 épocas para treinamento  \n",
    "    2.2 Apresente os resultados de acurácia e F-Score em termos da média +- dp para cada arquitetura\n",
    "3. Apresente o gráfico boxplot para o F-Score das 6 arquiteturas perante as 100 repetições"
   ]
  },
  {
   "cell_type": "code",
   "execution_count": null,
   "metadata": {},
   "outputs": [],
   "source": []
  },
  {
   "cell_type": "markdown",
   "metadata": {},
   "source": [
    "## Considerações Parciais\n",
    "\n",
    "1. É possível identificar uma rede com desempenho superior às demais?\n",
    "2. Qual estratégia mostrou-se mais producente para a obtenção de boas arquiteturas (Estratégia Própria ou Pirâmide Geométrica)? Por quê?\n",
    "3. Considerar os atributos categóricos trouxe melhorias? Justifique.\n",
    "4. Um número maior de épocas trouxe melhorias?\n",
    "5. Qual a maior dificuldade de resolução do problema proposto perante as RNAs?"
   ]
  },
  {
   "cell_type": "code",
   "execution_count": null,
   "metadata": {},
   "outputs": [],
   "source": []
  }
 ],
 "metadata": {
  "kernelspec": {
   "name": "Python 3.8.1 64-bit",
   "display_name": "Python 3.8.1 64-bit",
   "metadata": {
    "interpreter": {
     "hash": "53f9a72db918e1f0cc3aa0c0bcda5f5313f50e7c22ec95f6292c64615ab9216b"
    }
   }
  },
  "language_info": {
   "codemirror_mode": {
    "name": "ipython",
    "version": 3
   },
   "file_extension": ".py",
   "mimetype": "text/x-python",
   "name": "python",
   "nbconvert_exporter": "python",
   "pygments_lexer": "ipython3",
   "version": "3.8.1-final"
  }
 },
 "nbformat": 4,
 "nbformat_minor": 4
}